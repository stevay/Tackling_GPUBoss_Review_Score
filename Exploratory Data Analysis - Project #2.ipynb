{
 "cells": [
  {
   "cell_type": "code",
   "execution_count": 20,
   "metadata": {},
   "outputs": [],
   "source": [
    "import numpy as np\n",
    "import pandas as pd\n",
    "\n",
    "from __future__ import print_function, division\n",
    "\n",
    "import requests\n",
    "\n",
    "import warnings\n",
    "warnings.filterwarnings(\"ignore\")\n",
    "\n",
    "from bs4 import BeautifulSoup\n",
    "import re # for regex; e.g. text=re.compile('inserttexthere')\n",
    "\n",
    "from sklearn import metrics\n",
    "from sklearn.preprocessing import PolynomialFeatures\n",
    "from sklearn.pipeline import make_pipeline\n",
    "from sklearn.cross_validation import train_test_split # randomly creates test sets\n",
    "from sklearn.cross_validation import KFold\n",
    "from sklearn.cross_validation import cross_val_score\n",
    "from sklearn.preprocessing import StandardScaler\n",
    "from sklearn.metrics import mean_squared_error\n",
    "\n",
    "from sklearn.linear_model import Lasso\n",
    "\n",
    "import pickle\n",
    "\n",
    "import seaborn as sns\n",
    "import matplotlib.pyplot as plt\n",
    "%matplotlib inline\n",
    "\n",
    "from datetime import datetime\n",
    "from sklearn.preprocessing import MultiLabelBinarizer"
   ]
  },
  {
   "cell_type": "code",
   "execution_count": 3,
   "metadata": {},
   "outputs": [],
   "source": [
    "# load pickle file\n",
    "with open('data/my_data_2_updated.pkl','rb') as picklefile:\n",
    "    df_updated_2 = pickle.load(picklefile)"
   ]
  },
  {
   "cell_type": "code",
   "execution_count": 4,
   "metadata": {},
   "outputs": [
    {
     "data": {
      "text/plain": [
       "Index(['release_date', 'manufacturer', 'chipset', 'dual_gpu', 'passmark_score',\n",
       "       'gpuboss_score', 't_rex_gfx_score', 'manhattan_gfx_score', 'market',\n",
       "       'clock_speed_MHz', 'turbo_clock_speed_MHz', 'shading_units',\n",
       "       'texture_mapping_units', 'render_output_processors',\n",
       "       'pixel_rate_GPixel/s', 'texture_rate_GTexel/s',\n",
       "       'floating_point_performance_GFLOPS', 'memory_clock_speed',\n",
       "       'effective_memory_clock_speed_MHz', 'memory_bus_bit', 'memory_MB',\n",
       "       'memory_type', 'memory_bandwidth_GB/s', 'tdp_W', 'AMD', 'ASUS', 'ATi',\n",
       "       'BIOSTAR', 'Colorful', 'Diamond', 'EVGA', 'GIGABYTE', 'Generic', 'HIS',\n",
       "       'Leadtek', 'MSI', 'Nvidia', 'PowerColor', 'SPARKLE', 'Sapphire', 'XFX',\n",
       "       'ZOTAC', 'no_dual_gpu', 'yes_dual_gpu', 'desktop_market',\n",
       "       'laptop_market', 'undefined_market', 'DDR2_memory', 'DDR3_memory',\n",
       "       'GDDR3_memory', 'GDDR5_memory', 'undefined_memory'],\n",
       "      dtype='object')"
      ]
     },
     "execution_count": 4,
     "metadata": {},
     "output_type": "execute_result"
    }
   ],
   "source": [
    "df_updated_2.columns"
   ]
  },
  {
   "cell_type": "markdown",
   "metadata": {},
   "source": [
    "# visualization with seaborn"
   ]
  },
  {
   "cell_type": "code",
   "execution_count": 5,
   "metadata": {},
   "outputs": [
    {
     "data": {
      "text/plain": [
       "267"
      ]
     },
     "execution_count": 5,
     "metadata": {},
     "output_type": "execute_result"
    }
   ],
   "source": [
    "len(df_updated_2['gpuboss_score'].dropna()) # number of GPUs with gpuboss ratings"
   ]
  },
  {
   "cell_type": "code",
   "execution_count": 6,
   "metadata": {},
   "outputs": [
    {
     "data": {
      "text/plain": [
       "11"
      ]
     },
     "execution_count": 6,
     "metadata": {},
     "output_type": "execute_result"
    }
   ],
   "source": [
    "# number of GPUs with high rating, out of 267 GPUs with a valid gpuboss score\n",
    "len(df_updated_2.loc[df_updated_2['gpuboss_score']>8.0]) "
   ]
  },
  {
   "cell_type": "code",
   "execution_count": 7,
   "metadata": {},
   "outputs": [
    {
     "name": "stdout",
     "output_type": "stream",
     "text": [
      "Saving graph to: images/review_hist.svg\n"
     ]
    },
    {
     "data": {
      "image/png": "[encoded data removed]",
      "text/plain": [
       "<Figure size 720x432 with 1 Axes>"
      ]
     },
     "metadata": {},
     "output_type": "display_data"
    }
   ],
   "source": [
    "# histogram of video card ratings from gpuboss - only 11 video cards have a rating > 8.0\n",
    "sns.set()\n",
    "plt.figure(figsize=(10,6))\n",
    "plt.hist(df_updated_2['gpuboss_score'].dropna(), alpha=0.9,label='Count of GPUBoss Rating')\n",
    "plt.title('GPUBoss Rating Distribution')\n",
    "plt.xlabel('GPUBoss Rating')\n",
    "plt.ylabel('Count')\n",
    "plt.legend();\n",
    "\n",
    "# Save options\n",
    "save = 'images/review_hist'\n",
    "\n",
    "if save:\n",
    "    print('Saving graph to:', save + '.svg')\n",
    "    plt.savefig(save + '.svg', format='svg')"
   ]
  },
  {
   "cell_type": "markdown",
   "metadata": {},
   "source": [
    "### Move column 'gpuboss_score to the front of the DataFrame; new DataFrame: df_updated_3"
   ]
  },
  {
   "cell_type": "code",
   "execution_count": 8,
   "metadata": {},
   "outputs": [],
   "source": [
    "df_updated_3 = df_updated_2[['gpuboss_score'] + [c for c in df_updated_2 if c not in ['gpuboss_score']]]"
   ]
  },
  {
   "cell_type": "code",
   "execution_count": 9,
   "metadata": {},
   "outputs": [
    {
     "data": {
      "text/html": [
       "<div>\n",
       "<style scoped>\n",
       "    .dataframe tbody tr th:only-of-type {\n",
       "        vertical-align: middle;\n",
       "    }\n",
       "\n",
       "    .dataframe tbody tr th {\n",
       "        vertical-align: top;\n",
       "    }\n",
       "\n",
       "    .dataframe thead th {\n",
       "        text-align: right;\n",
       "    }\n",
       "</style>\n",
       "<table border=\"1\" class=\"dataframe\">\n",
       "  <thead>\n",
       "    <tr style=\"text-align: right;\">\n",
       "      <th></th>\n",
       "      <th>gpuboss_score</th>\n",
       "      <th>release_date</th>\n",
       "      <th>manufacturer</th>\n",
       "      <th>chipset</th>\n",
       "      <th>dual_gpu</th>\n",
       "      <th>passmark_score</th>\n",
       "      <th>t_rex_gfx_score</th>\n",
       "      <th>manhattan_gfx_score</th>\n",
       "      <th>market</th>\n",
       "      <th>clock_speed_MHz</th>\n",
       "      <th>...</th>\n",
       "      <th>no_dual_gpu</th>\n",
       "      <th>yes_dual_gpu</th>\n",
       "      <th>desktop_market</th>\n",
       "      <th>laptop_market</th>\n",
       "      <th>undefined_market</th>\n",
       "      <th>DDR2_memory</th>\n",
       "      <th>DDR3_memory</th>\n",
       "      <th>GDDR3_memory</th>\n",
       "      <th>GDDR5_memory</th>\n",
       "      <th>undefined_memory</th>\n",
       "    </tr>\n",
       "  </thead>\n",
       "  <tbody>\n",
       "    <tr>\n",
       "      <th>0</th>\n",
       "      <td>NaN</td>\n",
       "      <td>2008-01-01</td>\n",
       "      <td>ATi</td>\n",
       "      <td>Radeon X1050</td>\n",
       "      <td>No</td>\n",
       "      <td>49.0</td>\n",
       "      <td>NaN</td>\n",
       "      <td>NaN</td>\n",
       "      <td>Desktop</td>\n",
       "      <td>400</td>\n",
       "      <td>...</td>\n",
       "      <td>1</td>\n",
       "      <td>0</td>\n",
       "      <td>1</td>\n",
       "      <td>0</td>\n",
       "      <td>0</td>\n",
       "      <td>0</td>\n",
       "      <td>0</td>\n",
       "      <td>0</td>\n",
       "      <td>0</td>\n",
       "      <td>1</td>\n",
       "    </tr>\n",
       "    <tr>\n",
       "      <th>1</th>\n",
       "      <td>NaN</td>\n",
       "      <td>2008-01-01</td>\n",
       "      <td>ATi</td>\n",
       "      <td>Mobility Radeon HD 3650</td>\n",
       "      <td>No</td>\n",
       "      <td>216.0</td>\n",
       "      <td>1704.69</td>\n",
       "      <td>NaN</td>\n",
       "      <td>Laptop</td>\n",
       "      <td>500</td>\n",
       "      <td>...</td>\n",
       "      <td>1</td>\n",
       "      <td>0</td>\n",
       "      <td>0</td>\n",
       "      <td>1</td>\n",
       "      <td>0</td>\n",
       "      <td>0</td>\n",
       "      <td>0</td>\n",
       "      <td>1</td>\n",
       "      <td>0</td>\n",
       "      <td>0</td>\n",
       "    </tr>\n",
       "    <tr>\n",
       "      <th>2</th>\n",
       "      <td>NaN</td>\n",
       "      <td>2008-01-01</td>\n",
       "      <td>Nvidia</td>\n",
       "      <td>GeForce 8800 GS</td>\n",
       "      <td>No</td>\n",
       "      <td>551.0</td>\n",
       "      <td>NaN</td>\n",
       "      <td>NaN</td>\n",
       "      <td>Desktop</td>\n",
       "      <td>550</td>\n",
       "      <td>...</td>\n",
       "      <td>1</td>\n",
       "      <td>0</td>\n",
       "      <td>1</td>\n",
       "      <td>0</td>\n",
       "      <td>0</td>\n",
       "      <td>0</td>\n",
       "      <td>0</td>\n",
       "      <td>1</td>\n",
       "      <td>0</td>\n",
       "      <td>0</td>\n",
       "    </tr>\n",
       "  </tbody>\n",
       "</table>\n",
       "<p>3 rows × 52 columns</p>\n",
       "</div>"
      ],
      "text/plain": [
       "   gpuboss_score release_date manufacturer                  chipset dual_gpu  \\\n",
       "0            NaN   2008-01-01          ATi             Radeon X1050       No   \n",
       "1            NaN   2008-01-01          ATi  Mobility Radeon HD 3650       No   \n",
       "2            NaN   2008-01-01       Nvidia          GeForce 8800 GS       No   \n",
       "\n",
       "   passmark_score  t_rex_gfx_score  manhattan_gfx_score   market  \\\n",
       "0            49.0              NaN                  NaN  Desktop   \n",
       "1           216.0          1704.69                  NaN   Laptop   \n",
       "2           551.0              NaN                  NaN  Desktop   \n",
       "\n",
       "   clock_speed_MHz        ...         no_dual_gpu  yes_dual_gpu  \\\n",
       "0              400        ...                   1             0   \n",
       "1              500        ...                   1             0   \n",
       "2              550        ...                   1             0   \n",
       "\n",
       "   desktop_market  laptop_market  undefined_market  DDR2_memory  DDR3_memory  \\\n",
       "0               1              0                 0            0            0   \n",
       "1               0              1                 0            0            0   \n",
       "2               1              0                 0            0            0   \n",
       "\n",
       "   GDDR3_memory  GDDR5_memory  undefined_memory  \n",
       "0             0             0                 1  \n",
       "1             1             0                 0  \n",
       "2             1             0                 0  \n",
       "\n",
       "[3 rows x 52 columns]"
      ]
     },
     "execution_count": 9,
     "metadata": {},
     "output_type": "execute_result"
    }
   ],
   "source": [
    "df_updated_3.head(3) # head of data"
   ]
  },
  {
   "cell_type": "markdown",
   "metadata": {},
   "source": [
    "### develop a DataFrame with only rows that have gpuboss rating"
   ]
  },
  {
   "cell_type": "code",
   "execution_count": 16,
   "metadata": {},
   "outputs": [],
   "source": [
    "df_train = df_updated_3.loc[df_updated_3['gpuboss_score'].notnull()]"
   ]
  },
  {
   "cell_type": "code",
   "execution_count": 17,
   "metadata": {},
   "outputs": [
    {
     "data": {
      "text/html": [
       "<div>\n",
       "<style scoped>\n",
       "    .dataframe tbody tr th:only-of-type {\n",
       "        vertical-align: middle;\n",
       "    }\n",
       "\n",
       "    .dataframe tbody tr th {\n",
       "        vertical-align: top;\n",
       "    }\n",
       "\n",
       "    .dataframe thead th {\n",
       "        text-align: right;\n",
       "    }\n",
       "</style>\n",
       "<table border=\"1\" class=\"dataframe\">\n",
       "  <thead>\n",
       "    <tr style=\"text-align: right;\">\n",
       "      <th></th>\n",
       "      <th>gpuboss_score</th>\n",
       "      <th>release_date</th>\n",
       "      <th>manufacturer</th>\n",
       "      <th>chipset</th>\n",
       "      <th>dual_gpu</th>\n",
       "      <th>passmark_score</th>\n",
       "      <th>t_rex_gfx_score</th>\n",
       "      <th>manhattan_gfx_score</th>\n",
       "      <th>market</th>\n",
       "      <th>clock_speed_MHz</th>\n",
       "      <th>...</th>\n",
       "      <th>no_dual_gpu</th>\n",
       "      <th>yes_dual_gpu</th>\n",
       "      <th>desktop_market</th>\n",
       "      <th>laptop_market</th>\n",
       "      <th>undefined_market</th>\n",
       "      <th>DDR2_memory</th>\n",
       "      <th>DDR3_memory</th>\n",
       "      <th>GDDR3_memory</th>\n",
       "      <th>GDDR5_memory</th>\n",
       "      <th>undefined_memory</th>\n",
       "    </tr>\n",
       "  </thead>\n",
       "  <tbody>\n",
       "    <tr>\n",
       "      <th>12</th>\n",
       "      <td>6.2</td>\n",
       "      <td>2008-02-01</td>\n",
       "      <td>Nvidia</td>\n",
       "      <td>GeForce GT 9600</td>\n",
       "      <td>No</td>\n",
       "      <td>739.0</td>\n",
       "      <td>NaN</td>\n",
       "      <td>NaN</td>\n",
       "      <td>Desktop</td>\n",
       "      <td>650</td>\n",
       "      <td>...</td>\n",
       "      <td>1</td>\n",
       "      <td>0</td>\n",
       "      <td>1</td>\n",
       "      <td>0</td>\n",
       "      <td>0</td>\n",
       "      <td>0</td>\n",
       "      <td>1</td>\n",
       "      <td>0</td>\n",
       "      <td>0</td>\n",
       "      <td>0</td>\n",
       "    </tr>\n",
       "    <tr>\n",
       "      <th>29</th>\n",
       "      <td>6.4</td>\n",
       "      <td>2008-06-01</td>\n",
       "      <td>ATi</td>\n",
       "      <td>Radeon HD 4850</td>\n",
       "      <td>No</td>\n",
       "      <td>1028.0</td>\n",
       "      <td>3357.10</td>\n",
       "      <td>NaN</td>\n",
       "      <td>Desktop</td>\n",
       "      <td>625</td>\n",
       "      <td>...</td>\n",
       "      <td>1</td>\n",
       "      <td>0</td>\n",
       "      <td>1</td>\n",
       "      <td>0</td>\n",
       "      <td>0</td>\n",
       "      <td>0</td>\n",
       "      <td>0</td>\n",
       "      <td>1</td>\n",
       "      <td>0</td>\n",
       "      <td>0</td>\n",
       "    </tr>\n",
       "    <tr>\n",
       "      <th>31</th>\n",
       "      <td>6.2</td>\n",
       "      <td>2008-07-01</td>\n",
       "      <td>Nvidia</td>\n",
       "      <td>GeForce GT 9800</td>\n",
       "      <td>No</td>\n",
       "      <td>716.0</td>\n",
       "      <td>3307.06</td>\n",
       "      <td>NaN</td>\n",
       "      <td>Desktop</td>\n",
       "      <td>600</td>\n",
       "      <td>...</td>\n",
       "      <td>1</td>\n",
       "      <td>0</td>\n",
       "      <td>1</td>\n",
       "      <td>0</td>\n",
       "      <td>0</td>\n",
       "      <td>0</td>\n",
       "      <td>0</td>\n",
       "      <td>1</td>\n",
       "      <td>0</td>\n",
       "      <td>0</td>\n",
       "    </tr>\n",
       "  </tbody>\n",
       "</table>\n",
       "<p>3 rows × 52 columns</p>\n",
       "</div>"
      ],
      "text/plain": [
       "    gpuboss_score release_date manufacturer          chipset dual_gpu  \\\n",
       "12            6.2   2008-02-01       Nvidia  GeForce GT 9600       No   \n",
       "29            6.4   2008-06-01          ATi   Radeon HD 4850       No   \n",
       "31            6.2   2008-07-01       Nvidia  GeForce GT 9800       No   \n",
       "\n",
       "    passmark_score  t_rex_gfx_score  manhattan_gfx_score   market  \\\n",
       "12           739.0              NaN                  NaN  Desktop   \n",
       "29          1028.0          3357.10                  NaN  Desktop   \n",
       "31           716.0          3307.06                  NaN  Desktop   \n",
       "\n",
       "    clock_speed_MHz        ...         no_dual_gpu  yes_dual_gpu  \\\n",
       "12              650        ...                   1             0   \n",
       "29              625        ...                   1             0   \n",
       "31              600        ...                   1             0   \n",
       "\n",
       "    desktop_market  laptop_market  undefined_market  DDR2_memory  DDR3_memory  \\\n",
       "12               1              0                 0            0            1   \n",
       "29               1              0                 0            0            0   \n",
       "31               1              0                 0            0            0   \n",
       "\n",
       "    GDDR3_memory  GDDR5_memory  undefined_memory  \n",
       "12             0             0                 0  \n",
       "29             1             0                 0  \n",
       "31             1             0                 0  \n",
       "\n",
       "[3 rows x 52 columns]"
      ]
     },
     "execution_count": 17,
     "metadata": {},
     "output_type": "execute_result"
    }
   ],
   "source": [
    "df_train.head(3)"
   ]
  },
  {
   "cell_type": "markdown",
   "metadata": {},
   "source": [
    "### Columns to drop (in order to fit data into linear regression / statsmodel):\n",
    "- manufacturer\n",
    "- chipset\n",
    "- dual_gpu\n",
    "- market\n",
    "- memory_type\n",
    "\n",
    "### Columns to drop (no correlation with gpuboss score):\n",
    "- BIOSTAR\n",
    "- HIS"
   ]
  },
  {
   "cell_type": "code",
   "execution_count": 18,
   "metadata": {},
   "outputs": [],
   "source": [
    "# drop categorical features that have already been transformed to dummy variables\n",
    "df_train = df_train.drop(['manufacturer','chipset','dual_gpu','market','memory_type'], axis = 1)\n",
    "\n",
    "# drop features that are not correlated with gpuboss_score\n",
    "df_train = df_train.drop(['BIOSTAR','HIS'], axis = 1)"
   ]
  },
  {
   "cell_type": "markdown",
   "metadata": {},
   "source": [
    "### convert datetime values into numerical values"
   ]
  },
  {
   "cell_type": "code",
   "execution_count": 21,
   "metadata": {},
   "outputs": [],
   "source": [
    "df_train['release_date']=df_train['release_date'].map(datetime.toordinal)"
   ]
  },
  {
   "cell_type": "markdown",
   "metadata": {},
   "source": [
    "### We will use K-Nearest Neighbor (KNN) to handle missing data\n",
    "\n",
    "In this method, k neighbors are chosen based on some distance measure and their average is used as an imputation estimate. The method requires the selection of the number of nearest neighbors, and a distance metric. KNN can predict both discrete attributes (the most frequent value among the k nearest neighbors) and continuous attributes (the mean among the k nearest neighbors)\n",
    "The distance metric varies according to the type of data:\n",
    "1. Continuous Data: The commonly used distance metrics for continuous data are Euclidean, Manhattan and Cosine\n",
    "2. Categorical Data: Hamming distance is generally used in this case. It takes all the categorical attributes and for each, count one if the value is not the same between two points. The Hamming distance is then equal to the number of attributes for which the value was different."
   ]
  },
  {
   "cell_type": "code",
   "execution_count": null,
   "metadata": {},
   "outputs": [],
   "source": [
    "from fancyimpute import KNN    \n",
    "\n",
    "# set df_train as numpy array for KNN\n",
    "df_train_array = df_train.select_dtypes(include=[np.float,np.int]).as_matrix()\n",
    "\n",
    "# Use 5 nearest rows which have a feature to fill in each row's missing features\n",
    "df_train_filled = pd.DataFrame(KNN(k=5).fit_transform(df_train_array),columns=df_train.columns,index=df_train.index)"
   ]
  },
  {
   "cell_type": "markdown",
   "metadata": {},
   "source": [
    "### reset the index"
   ]
  },
  {
   "cell_type": "code",
   "execution_count": null,
   "metadata": {},
   "outputs": [],
   "source": [
    "df_train_filled = df_train_filled.reset_index(drop=True)"
   ]
  },
  {
   "cell_type": "code",
   "execution_count": null,
   "metadata": {},
   "outputs": [],
   "source": [
    "df_train_filled.info()"
   ]
  },
  {
   "cell_type": "markdown",
   "metadata": {},
   "source": [
    "### save KKN-filled DataFrame via Pickle"
   ]
  },
  {
   "cell_type": "code",
   "execution_count": null,
   "metadata": {},
   "outputs": [],
   "source": [
    "# save updated DataFrame with Pickle - dump into new file\n",
    "with open('data/df_train_filled.pkl','wb') as picklefile:\n",
    "    pickle.dump(df_train_filled,picklefile)"
   ]
  },
  {
   "cell_type": "code",
   "execution_count": null,
   "metadata": {},
   "outputs": [],
   "source": []
  },
  {
   "cell_type": "code",
   "execution_count": null,
   "metadata": {},
   "outputs": [],
   "source": []
  }
 ],
 "metadata": {
  "kernelspec": {
   "display_name": "Python 3",
   "language": "python",
   "name": "python3"
  },
  "language_info": {
   "codemirror_mode": {
    "name": "ipython",
    "version": 3
   },
   "file_extension": ".py",
   "mimetype": "text/x-python",
   "name": "python",
   "nbconvert_exporter": "python",
   "pygments_lexer": "ipython3",
   "version": "3.6.6"
  }
 },
 "nbformat": 4,
 "nbformat_minor": 2
}
